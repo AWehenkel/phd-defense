{
 "cells": [
  {
   "cell_type": "code",
   "execution_count": 1,
   "metadata": {},
   "outputs": [
    {
     "data": {
      "text/html": [
       "<pre style=\"white-space:pre;overflow-x:auto;line-height:normal;font-family:Menlo,'DejaVu Sans Mono',consolas,'Courier New',monospace\">Manim Community <span style=\"color: #008000; text-decoration-color: #008000\">v0.16.0.post0</span>\n",
       "\n",
       "</pre>\n"
      ],
      "text/plain": [
       "Manim Community \u001b[32mv0.\u001b[0m\u001b[32m16.0\u001b[0m\u001b[32m.post0\u001b[0m\n",
       "\n"
      ]
     },
     "metadata": {},
     "output_type": "display_data"
    }
   ],
   "source": [
    "from manim import *\n",
    "\n",
    "config.media_width = \"75%\"\n",
    "config.verbosity = \"WARNING\""
   ]
  },
  {
   "cell_type": "code",
   "execution_count": 2,
   "metadata": {},
   "outputs": [],
   "source": [
    "import numpy as np"
   ]
  },
  {
   "cell_type": "code",
   "execution_count": 3,
   "metadata": {},
   "outputs": [],
   "source": [
    "import math"
   ]
  },
  {
   "cell_type": "code",
   "execution_count": 120,
   "metadata": {},
   "outputs": [
    {
     "data": {
      "text/plain": [
       "(array([[0, 0, 1, 0],\n",
       "        [1, 0, 0, 0],\n",
       "        [0, 0, 0, 1],\n",
       "        [0, 1, 0, 0]]),\n",
       " array([[0, 0, 0, 1],\n",
       "        [0, 0, 1, 0],\n",
       "        [0, 1, 0, 0],\n",
       "        [1, 0, 0, 0]]),\n",
       " array([[0, 1, 0, 0],\n",
       "        [0, 0, 0, 1],\n",
       "        [1, 0, 0, 0],\n",
       "        [0, 0, 1, 0]]),\n",
       " array([[1, 0, 0, 0],\n",
       "        [0, 1, 0, 0],\n",
       "        [0, 0, 1, 0],\n",
       "        [0, 0, 0, 1]]),\n",
       " array([[1, 1, 1, 1],\n",
       "        [1, 1, 1, 1],\n",
       "        [1, 1, 1, 1],\n",
       "        [1, 1, 1, 1]]))"
      ]
     },
     "execution_count": 120,
     "metadata": {},
     "output_type": "execute_result"
    }
   ],
   "source": [
    "A = np.array([[0, 0, 1, 0], [1, 0, 0, 0], [0, 0, 0, 1], [0, 1, 0, 0]])\n",
    "A, A@A, A@A@A, A@A@A@A, A + A@A + A@A@A + A@A@A@A "
   ]
  },
  {
   "cell_type": "code",
   "execution_count": 546,
   "metadata": {},
   "outputs": [
    {
     "data": {
      "text/plain": [
       "[<matplotlib.lines.Line2D at 0x7fd17621f340>]"
      ]
     },
     "execution_count": 546,
     "metadata": {},
     "output_type": "execute_result"
    },
    {
     "data": {
      "image/png": "[encoded data removed]",
      "text/plain": [
       "<Figure size 432x288 with 1 Axes>"
      ]
     },
     "metadata": {
      "needs_background": "light"
     },
     "output_type": "display_data"
    }
   ],
   "source": [
    "plt.plot(pdf_after_trans(monotonic_trans_inv(np.arange(-.5, .5, .01))))\n"
   ]
  },
  {
   "cell_type": "code",
   "execution_count": 553,
   "metadata": {},
   "outputs": [
    {
     "data": {
      "text/plain": [
       "(array([ 1.,  0.,  1.,  0.,  3.,  4.,  7.,  5.,  5.,  8.,  5.,  5.,  7.,\n",
       "         7.,  6.,  6.,  9.,  9., 11., 11., 14., 14., 16., 12., 16.,  7.,\n",
       "        16., 11., 15., 16.,  9., 13., 16., 14.,  7.,  5., 11.,  7., 13.,\n",
       "         7.,  9.,  3.,  8.,  5.,  8.,  4.,  6.,  4.,  7.,  9.,  7.,  3.,\n",
       "         3.,  3.,  3.,  4.,  2.,  1.,  5.,  2.,  4.,  4.,  4.,  6.,  3.,\n",
       "         1.,  4.,  4.,  2.,  1.,  2.,  3.,  1.,  2.,  3.,  2.,  0.,  2.,\n",
       "         1.,  2.,  1.,  1.,  2.,  0.,  4.,  2.,  0.,  0.,  0.,  1.,  1.,\n",
       "         0.,  1.,  1.,  0.,  0.,  1.,  0.,  0.,  0.,  3.,  1.,  2.,  0.,\n",
       "         2.,  0.,  1.,  0.,  2.,  2.,  0.,  0.,  1.,  1.,  0.,  1.,  1.,\n",
       "         0.,  1.,  0.,  1.,  1.,  0.,  0.,  1.,  1.,  1.,  0.,  1.,  2.,\n",
       "         1.,  1.,  0.,  2.,  2.,  3.,  0.,  6.,  2.,  3.,  1.,  3.,  2.,\n",
       "         2.,  3.,  2.,  1.,  3.,  6.,  3.,  4.,  3.,  4.,  5.,  7.,  5.,\n",
       "         4.,  2.,  6.,  7., 13., 14.,  7.,  4.,  8., 18., 11.,  3.,  5.,\n",
       "         9.,  8.,  8., 14., 16., 13.,  7., 10., 11., 10., 10., 17., 11.,\n",
       "        15.,  7., 15., 14.,  9.,  7., 12., 17., 11., 12.,  5.,  2.,  4.,\n",
       "         5.,  1.,  4.,  0.,  3.]),\n",
       " array([-0.50616   , -0.50117952, -0.49619904, -0.49121856, -0.48623808,\n",
       "        -0.48125761, -0.47627713, -0.47129665, -0.46631617, -0.46133569,\n",
       "        -0.45635522, -0.45137474, -0.44639426, -0.44141378, -0.4364333 ,\n",
       "        -0.43145283, -0.42647235, -0.42149187, -0.41651139, -0.41153092,\n",
       "        -0.40655044, -0.40156996, -0.39658948, -0.391609  , -0.38662853,\n",
       "        -0.38164805, -0.37666757, -0.37168709, -0.36670661, -0.36172614,\n",
       "        -0.35674566, -0.35176518, -0.3467847 , -0.34180422, -0.33682375,\n",
       "        -0.33184327, -0.32686279, -0.32188231, -0.31690183, -0.31192136,\n",
       "        -0.30694088, -0.3019604 , -0.29697992, -0.29199945, -0.28701897,\n",
       "        -0.28203849, -0.27705801, -0.27207753, -0.26709706, -0.26211658,\n",
       "        -0.2571361 , -0.25215562, -0.24717514, -0.24219467, -0.23721419,\n",
       "        -0.23223371, -0.22725323, -0.22227275, -0.21729228, -0.2123118 ,\n",
       "        -0.20733132, -0.20235084, -0.19737037, -0.19238989, -0.18740941,\n",
       "        -0.18242893, -0.17744845, -0.17246798, -0.1674875 , -0.16250702,\n",
       "        -0.15752654, -0.15254606, -0.14756559, -0.14258511, -0.13760463,\n",
       "        -0.13262415, -0.12764367, -0.1226632 , -0.11768272, -0.11270224,\n",
       "        -0.10772176, -0.10274129, -0.09776081, -0.09278033, -0.08779985,\n",
       "        -0.08281937, -0.0778389 , -0.07285842, -0.06787794, -0.06289746,\n",
       "        -0.05791698, -0.05293651, -0.04795603, -0.04297555, -0.03799507,\n",
       "        -0.03301459, -0.02803412, -0.02305364, -0.01807316, -0.01309268,\n",
       "        -0.0081122 , -0.00313173,  0.00184875,  0.00682923,  0.01180971,\n",
       "         0.01679018,  0.02177066,  0.02675114,  0.03173162,  0.0367121 ,\n",
       "         0.04169257,  0.04667305,  0.05165353,  0.05663401,  0.06161449,\n",
       "         0.06659496,  0.07157544,  0.07655592,  0.0815364 ,  0.08651688,\n",
       "         0.09149735,  0.09647783,  0.10145831,  0.10643879,  0.11141926,\n",
       "         0.11639974,  0.12138022,  0.1263607 ,  0.13134118,  0.13632165,\n",
       "         0.14130213,  0.14628261,  0.15126309,  0.15624357,  0.16122404,\n",
       "         0.16620452,  0.171185  ,  0.17616548,  0.18114596,  0.18612643,\n",
       "         0.19110691,  0.19608739,  0.20106787,  0.20604835,  0.21102882,\n",
       "         0.2160093 ,  0.22098978,  0.22597026,  0.23095073,  0.23593121,\n",
       "         0.24091169,  0.24589217,  0.25087265,  0.25585312,  0.2608336 ,\n",
       "         0.26581408,  0.27079456,  0.27577504,  0.28075551,  0.28573599,\n",
       "         0.29071647,  0.29569695,  0.30067743,  0.3056579 ,  0.31063838,\n",
       "         0.31561886,  0.32059934,  0.32557981,  0.33056029,  0.33554077,\n",
       "         0.34052125,  0.34550173,  0.3504822 ,  0.35546268,  0.36044316,\n",
       "         0.36542364,  0.37040412,  0.37538459,  0.38036507,  0.38534555,\n",
       "         0.39032603,  0.39530651,  0.40028698,  0.40526746,  0.41024794,\n",
       "         0.41522842,  0.4202089 ,  0.42518937,  0.43016985,  0.43515033,\n",
       "         0.44013081,  0.44511128,  0.45009176,  0.45507224,  0.46005272,\n",
       "         0.4650332 ,  0.47001367,  0.47499415,  0.47997463,  0.48495511,\n",
       "         0.48993559]),\n",
       " <a list of 200 Patch objects>)"
      ]
     },
     "execution_count": 553,
     "metadata": {},
     "output_type": "execute_result"
    },
    {
     "data": {
      "image/png": "[encoded data removed]",
      "text/plain": [
       "<Figure size 432x288 with 1 Axes>"
      ]
     },
     "metadata": {
      "needs_background": "light"
     },
     "output_type": "display_data"
    }
   ],
   "source": [
    "plt.hist(monotonic_trans(np.random.randn(1000)), bins=200)"
   ]
  },
  {
   "cell_type": "code",
   "execution_count": 618,
   "metadata": {},
   "outputs": [
    {
     "data": {
      "text/plain": [
       "0.3989422804014327"
      ]
     },
     "execution_count": 618,
     "metadata": {},
     "output_type": "execute_result"
    }
   ],
   "source": [
    "1/np.sqrt(2*math.pi) * np.exp(0)"
   ]
  },
  {
   "cell_type": "code",
   "execution_count": 540,
   "metadata": {},
   "outputs": [
    {
     "data": {
      "text/plain": [
       "[<matplotlib.lines.Line2D at 0x7fd16e9e4490>]"
      ]
     },
     "execution_count": 540,
     "metadata": {},
     "output_type": "execute_result"
    },
    {
     "data": {
      "image/png": "[encoded data removed]",
      "text/plain": [
       "<Figure size 432x288 with 1 Axes>"
      ]
     },
     "metadata": {
      "needs_background": "light"
     },
     "output_type": "display_data"
    }
   ],
   "source": [
    "def monotonic_trans(x):\n",
    "    return np.arcsinh(25*x)/10 #+ .5\n",
    "\n",
    "def monotonic_trans_inv(x):\n",
    "    return np.sinh(10*(x ))/25\n",
    "\n",
    "def pdf_after_trans(x):\n",
    "    return 1/(25/10 *1/(np.sqrt(1+(25*x)**2))) * (1/np.sqrt(2*math.pi)) * np.exp(-.5*x ** 2)\n",
    "plt.plot(np.arange(-3., 3., .01), pdf_after_trans(np.arange(-3., 3., .01)) * 0.05)"
   ]
  },
  {
   "cell_type": "code",
   "execution_count": 641,
   "metadata": {},
   "outputs": [
    {
     "name": "stderr",
     "output_type": "stream",
     "text": [
      "                                                                                                          \r"
     ]
    },
    {
     "data": {
      "text/html": [
       "<video src=\"media/jupyter/CircleToSquare@2022-10-20@00-53-31.mp4\" controls autoplay loop style=\"max-width: 75%;\"  >\n",
       "      Your browser does not support the <code>video</code> element.\n",
       "    </video>"
      ],
      "text/plain": [
       "<IPython.core.display.Video object>"
      ]
     },
     "metadata": {},
     "output_type": "display_data"
    }
   ],
   "source": [
    "%%manim -qm CircleToSquare\n",
    "\n",
    "\n",
    "    \n",
    "class CircleToSquare(MovingCameraScene):\n",
    "    CONFIG = {\n",
    "        \"y_max\" : 50,\n",
    "        \"y_min\" : 0,\n",
    "        \"x_max\" : 7,\n",
    "        \"x_min\" : 0,\n",
    "        \"y_tick_frequency\" : 5, \n",
    "        \"x_tick_frequency\" : 0.5, \n",
    "    }\n",
    "    # Setup the scenes\n",
    "    def setup(self):            \n",
    "        MovingCameraScene.setup(self)\n",
    "        \n",
    "    def construct(self):\n",
    "        ax = Axes( x_range=[-3. , 3., 1.], y_range=[-.5 , .5, .25])\n",
    "        self.play(Create(ax), run_time=2.)\n",
    "\n",
    "        t = MathTex(r\"z \\sim \\mathcal{N}(0, 1)\", color=BLUE)\n",
    "        t.next_to(ax, UR, coor_mask=[0.5, 0.5, 0])\n",
    "\n",
    "        graph = ax.plot(lambda x: 1/np.sqrt(2*math.pi) * np.exp(-x ** 2), x_range=[-3 , 3], use_smoothing=False, color=BLUE)\n",
    "        ax.insert(1, graph)\n",
    "        self.play(*[Create(graph), Create(t)], run_time=2.)\n",
    "        self.wait(5)\n",
    "\n",
    "\n",
    "        t_red = MathTex(r\"f(z) = \\frac{1}{10}arcsinh(25z)\", color=WHITE)\n",
    "        t_red.next_to(ax, UL, coor_mask=[0.5, 0.5, 0])\n",
    "        graph_mon = ax.plot(monotonic_trans, x_range=[-3 , 3], use_smoothing=True, stroke_color=WHITE)\n",
    "        ax.insert(1, graph_mon)\n",
    "        self.play(*[Create(graph_mon), Create(t_red)], run_time=2.)\n",
    "\n",
    "        self.wait(5)\n",
    "\n",
    "\n",
    "        origin = ax.get_origin()\n",
    "        y_scale = ax.get_y_unit_size()\n",
    "        r = np.random\n",
    "        x_length = ax.coords_to_point(0., 1.)[1] - ax.coords_to_point(0., 0)[1]\n",
    "        y_length = ax.coords_to_point(.9, 1.)[0] - ax.coords_to_point(0., 0)[0]\n",
    "\n",
    "        ## Sample the first point\n",
    "        all_y = np.array([])\n",
    "        x = r.randn()\n",
    "        y = monotonic_trans(x)\n",
    "        all_y = np.append(all_y, y)\n",
    "        dot = Dot(ax.coords_to_point(x, 0), color=BLUE)\n",
    "\n",
    "        self.play(Create(dot), run_time=2.)\n",
    "        self.play(dot.animate.move_to(ax.coords_to_point(x, y)).set_color(WHITE), run_time=2.)\n",
    "\n",
    "        self.wait(3)\n",
    "\n",
    "        bin_count, _ = np.histogram(all_y, bins=np.arange(-.5, .55, .05))\n",
    "\n",
    "        chart = BarChart(bin_count/20., x_length=x_length, y_range=[0., .15, .05]).move_to([-.85, 1.57, 0.])\n",
    "        all_objects = Group(*[graph, graph_mon, ax, dot, t, t_red])\n",
    "        self.play(all_objects.animate.rotate(-PI/2), t.animate.rotate(0).move_to([4.75, 4.5, 0.]), t_red.animate.rotate(0).move_to([6., 5.5, 0.]))\n",
    "        self.play(self.camera.frame.animate.set(width=25))\n",
    "        t_red_bis = MathTex(r\"x = f(z) \\sim p_z(f^{-1})(x)) |J_f(f^{-1})(x))|\", color=RED).move_to([7.5, 3.5, 0.])\n",
    "        self.play(dot.animate.move_to(ax.coords_to_point(0., y)).set_color(RED), Create(t_red_bis))\n",
    "        self.play(Create(chart), FadeOut(dot))\n",
    "        self.play(graph.animate.move_to(ax.coords_to_point(0., -1.2)))\n",
    "        self.remove(ax)\n",
    "        all_objects = Group(*[all_objects, t_red_bis, chart])\n",
    "\n",
    "        self.play(all_objects.animate.move_to([0. , 0., 0.]))\n",
    "\n",
    "        #plot_new = chart.plot(lambda x: pdf_after_trans(monotonic_trans_inv(x/20. - .5)) * 0.05, x_range=[0. , 20.], use_smoothing=True, stroke_color=BLUE)\n",
    "        #self.play(Create(plot_new))\n",
    "        \n",
    "        #self.play(camera.frame.animate.set(width=50))\n",
    "        for j in range(10):\n",
    "            dots = []\n",
    "            positions_intermediate = []\n",
    "            positions_final = []\n",
    "            for i in range(50):\n",
    "                x = r.randn()\n",
    "                y = monotonic_trans(x)\n",
    "                all_y = np.append(all_y, y)\n",
    "                dot = Dot(ax.coords_to_point(x, -1.5), color=BLUE)\n",
    "                ax.insert(0, dot)\n",
    "                dots.append(dot)\n",
    "                positions_intermediate.append([x, monotonic_trans(x)])\n",
    "                positions_final.append([0., monotonic_trans(x)])\n",
    "\n",
    "            self.play(*[Create(dot) for dot in dots], run_time=1.)\n",
    "            self.play(*[dot.animate.move_to(ax.coords_to_point(pos[0], pos[1])).set_color(WHITE)\n",
    "                        for dot, pos in zip(dots, positions_intermediate)], run_time=1.)\n",
    "            self.play(*[dot.animate.move_to(ax.coords_to_point(pos[0], pos[1])).set_color(RED)\n",
    "                        for dot, pos in zip(dots, positions_final)], run_time=1.)\n",
    "            self.play(*[FadeOut(dot) for dot in dots], run_time=1.)\n",
    "\n",
    "            bin_count, _ = np.histogram(all_y, bins=np.arange(-.5, .55, .05))\n",
    "            self.play(chart.animate.change_bar_values(bin_count/bin_count.sum(), update_colors=True))\n",
    "\n",
    "            if j == 0:\n",
    "                plot_new = chart.plot(lambda x: pdf_after_trans(monotonic_trans_inv(x/20. - .5)) * 0.05, x_range=[0. , 20.], use_smoothing=True, stroke_color=RED)\n",
    "                self.play(Create(plot_new))\n",
    "                #self.play(self.camera.frame.animate.set(width=22))\n",
    "\n",
    "        self.wait(10)\n",
    "        #t.arrange(DOWN, center=False, aligned_edge=LEFT)  \n",
    "        #self.add(t)\n",
    "        #self.play(Create(t))\n",
    "        #self.play(Transform(blue_circle, green_square))\n",
    "        #self.wait()"
   ]
  },
  {
   "cell_type": "code",
   "execution_count": 628,
   "metadata": {},
   "outputs": [],
   "source": [
    "from scipy.special import erf"
   ]
  },
  {
   "cell_type": "code",
   "execution_count": 417,
   "metadata": {},
   "outputs": [
    {
     "data": {
      "text/plain": [
       "0.8427007929497148"
      ]
     },
     "execution_count": 417,
     "metadata": {},
     "output_type": "execute_result"
    }
   ],
   "source": [
    "erf(1.)"
   ]
  },
  {
   "cell_type": "code",
   "execution_count": null,
   "metadata": {},
   "outputs": [],
   "source": [
    "def int_gaussian():\n",
    "    "
   ]
  },
  {
   "cell_type": "code",
   "execution_count": 596,
   "metadata": {
    "scrolled": true
   },
   "outputs": [
    {
     "name": "stderr",
     "output_type": "stream",
     "text": [
      "/Users/awehenkel/miniconda3/envs/DAG-NF/lib/python3.8/site-packages/manim/mobject/graph.py:544: FutureWarning: elementwise comparison failed; returning scalar instead, but in the future will perform elementwise comparison\n",
      "  k: v for k, v in vertex_config.items() if k not in vertices\n",
      "                                                                                                                                        \r"
     ]
    },
    {
     "data": {
      "text/html": [
       "<video src=\"media/jupyter/UMNN@2022-10-19@23-45-33.mp4\" controls autoplay loop style=\"max-width: 75%;\"  >\n",
       "      Your browser does not support the <code>video</code> element.\n",
       "    </video>"
      ],
      "text/plain": [
       "<IPython.core.display.Video object>"
      ]
     },
     "metadata": {},
     "output_type": "display_data"
    }
   ],
   "source": [
    "%%manim -qm UMNN\n",
    "\n",
    "class UMNN(MovingCameraScene):\n",
    "    def setup(self):\n",
    "        MovingCameraScene.setup(self)\n",
    "\n",
    "    def construct(self):\n",
    "        edges = []\n",
    "        partitions = []\n",
    "        c = 0\n",
    "        layers = [1, 2, 3, 3, 2, 1]  # the number of neurons in each layer\n",
    "\n",
    "        for i in layers:\n",
    "            partitions.append(list(range(c + 1, c + i + 1)))\n",
    "            c += i\n",
    "        for i, v in enumerate(layers[1:]):\n",
    "                last = sum(layers[:i+1])\n",
    "                for j in range(v):\n",
    "                    for k in range(last - layers[i], last):\n",
    "                        edges.append((k + 1, j + last + 1))\n",
    "\n",
    "        vertices = np.arange(1, sum(layers) + 1)\n",
    "\n",
    "        graph = Graph(\n",
    "            vertices,\n",
    "            edges,\n",
    "            layout='partite',\n",
    "            partitions=partitions,\n",
    "            layout_scale=3,\n",
    "            vertex_config={'radius': 0.20},\n",
    "        )\n",
    "\n",
    "        t = MathTex(r\"g_{\\theta}(x) := \\frac{\\partial f(x)}{\\partial x}\", color=BLUE)\n",
    "        t.next_to(graph, UP, coor_mask=[0.5, 1., 0])\n",
    "        graph.insert(0, t)\n",
    "\n",
    "        self.play(Create(graph), run_time=5.)\n",
    "\n",
    "        cur_layer = 0\n",
    "        cur_sum = 0\n",
    "        cur_nodes = []\n",
    "        prev_nodes = []\n",
    "        if False:\n",
    "            for ind, v in enumerate(graph.vertices):\n",
    "                if cur_sum == layers[cur_layer]:\n",
    "                    cur_sum = 0\n",
    "                    cur_layer += 1\n",
    "                    anim = [n.animate.set_color(RED) for n in cur_nodes] + [n.animate.set_color(WHITE) for n in prev_nodes]\n",
    "                    self.play(*anim, )\n",
    "                    prev_nodes = cur_nodes\n",
    "                    cur_nodes = []\n",
    "\n",
    "                cur_sum += 1\n",
    "                cur_nodes.append(graph.vertices[v])\n",
    "\n",
    "            anim = [n.animate.set_color(RED) for n in cur_nodes] + [n.animate.set_color(WHITE) for n in prev_nodes]\n",
    "            self.play(*anim)\n",
    "\n",
    "        ax = Axes( x_range=[-2. , 2., .5], y_range=[0. , 1., .5]).scale(.4).next_to(graph, UR, [-1., -1.5, 0.])\n",
    "        self.play(Create(ax), run_time=5.)\n",
    "\n",
    "        plot = ax.plot(lambda x: x**2 /3., x_range=[-1.5 , 1.5], use_smoothing=False, color=BLUE)\n",
    "        self.play(Create(plot), run_time=5.)\n",
    "\n",
    "        self.play(self.camera.frame.animate.set(width=26))\n",
    "\n",
    "        text = Tex(\"Integrand\")\n",
    "        Create(text.next_to(t, UL, [.5, .5, 0.]))\n",
    "        derivative_group = Group(*[graph, ax, plot, t, text])\n",
    "        self.play(derivative_group.animate.move_to([0. , 0., 0.]))\n",
    "        rectangle_derivative = SurroundingRectangle(derivative_group, color=BLUE, buff=.5)\n",
    "        self.play(Create(rectangle_derivative))\n",
    "        \n",
    "        self.wait(5)\n",
    "\n",
    "        ax_bis = Axes(x_range=[-2. , 2., .5], y_range=[-1.5 , 1.5, .5]).scale(.6).next_to(rectangle_derivative, LEFT, [1., 0., 0.])\n",
    "\n",
    "        self.play(Create(ax_bis), self.camera.frame.animate.set(width=28))\n",
    "        \n",
    "        \n",
    "        t = MathTex(r\"\\partial f(x) = \\int_{-\\infty}^{x} g_{\\theta}(t) dt\", color=YELLOW).next_to(ax_bis, UP, [0., 1., 0.])\n",
    "        self.play(Create(t))\n",
    "\n",
    "        \n",
    "\n",
    "        text = Tex(\"UMNN\")\n",
    "        self.wait(1)\n",
    "        all_obj = [ax_bis, t, derivative_group, text, rectangle_derivative]\n",
    "        umnn_group = Group(*all_obj)\n",
    "        \n",
    "        self.play(umnn_group.animate.move_to([0. , 0., 0.]))\n",
    "\n",
    "        \n",
    "        self.play(Create(text.next_to(t, UL, [.5, .5, 0.])))\n",
    "        \n",
    "        rectangle_umnn = SurroundingRectangle(umnn_group, buff=.4)\n",
    "        self.play(Create(rectangle_umnn))\n",
    "        \n",
    "        decimal = DecimalNumber(0, num_decimal_places=3, include_sign=True, unit=None).move_to(ax_bis.coords_to_point(2., 2.))\n",
    "        \n",
    "        decimal.add_updater(lambda d: d.set_value(tracker.get_value()))\n",
    "        self.add(decimal)\n",
    "        \n",
    "        tracker = ValueTracker(-1.5)\n",
    "        cur_area = ax.get_area(graph=plot, x_range=(-1.5, tracker.get_value()), color=YELLOW)\n",
    "        plot_bis = ax_bis.plot(lambda x: x**3/4, x_range=[-1.5 , tracker.get_value()], use_smoothing=False, color=YELLOW)\n",
    "        \n",
    "        all_plots = [plot_bis]\n",
    "        all_area = [cur_area]\n",
    "        def update_graph(mob):\n",
    "            cur_area = mob.get_area(graph=plot, x_range=(-1.5, tracker.get_value()), color=YELLOW)\n",
    "            plot_bis = ax_bis.plot(lambda x: x**3/4, x_range=[-1.5 , tracker.get_value()], use_smoothing=False, color=YELLOW)\n",
    "            self.add(cur_area)\n",
    "            self.add(plot_bis)\n",
    "            for a in all_plots.pop():\n",
    "                self.remove(a)\n",
    "            all_plots.append(plot_bis)\n",
    "            for a in all_area.pop():\n",
    "                self.remove(a)\n",
    "            all_area.append(cur_area)\n",
    "\n",
    "        #update_graph(ax)\n",
    "        ax.add_updater(update_graph)\n",
    "        \n",
    "        self.play(tracker.animate.set_value(float(1.5)), run_time=3)\n",
    "        self.wait(1)\n",
    "        self.wait(10)\n",
    "        "
   ]
  },
  {
   "cell_type": "code",
   "execution_count": null,
   "metadata": {},
   "outputs": [],
   "source": []
  },
  {
   "cell_type": "code",
   "execution_count": 794,
   "metadata": {},
   "outputs": [
    {
     "name": "stderr",
     "output_type": "stream",
     "text": [
      "                                                                                        \r"
     ]
    },
    {
     "data": {
      "text/html": [
       "<video src=\"media/jupyter/CircleToSquare@2022-10-20@14-29-36.mp4\" controls autoplay loop style=\"max-width: 75%;\"  >\n",
       "      Your browser does not support the <code>video</code> element.\n",
       "    </video>"
      ],
      "text/plain": [
       "<IPython.core.display.Video object>"
      ]
     },
     "metadata": {},
     "output_type": "display_data"
    }
   ],
   "source": [
    "%%manim -qm CircleToSquare\n",
    "\n",
    "\n",
    "    \n",
    "class CircleToSquare(MovingCameraScene):\n",
    "    CONFIG = {\n",
    "        \"x_min\": 0,\n",
    "        \"x_max\": 50,\n",
    "        \"y_min\": 0,\n",
    "        \"y_max\": 30,\n",
    "        \"graph_origin\": 1 * DOWN + 2 * LEFT,\n",
    "    }\n",
    "    # Setup the scenes\n",
    "    def setup(self):            \n",
    "        MovingCameraScene.setup(self)\n",
    "        \n",
    "    def construct(self):\n",
    "        rand = np.random\n",
    "        def movement_equation (x, x_0, dx_0, F):\n",
    "            x = x #+ rand.randn() * .01\n",
    "            delta_origin = (x_0[0] - x)\n",
    "            if F[0] == 0:\n",
    "                t = (x-x_0[0])/dx_0[0]\n",
    "            elif delta_origin == 0:\n",
    "                return x_0[1]\n",
    "            else:\n",
    "                delta = dx_0[0]**2 - 2*F[0]*delta_origin\n",
    "                t1 = (-dx_0[0] + np.sqrt(delta))/F[0]\n",
    "                t2 = (-dx_0[0] - np.sqrt(delta))/F[0]\n",
    "                t = t1\n",
    "            y =  x_0[1] + dx_0[1] * t + .5 * t**2 * F[1]\n",
    "            return y #+ rand.randn() * .1\n",
    "        \n",
    "        ax = Axes(x_range=[-1. , 10, 2.5], y_range=[0. , 15, 3])#.scale(.4).next_to(graph, UR, [-1., -1.5, 0.])\n",
    "        self.play(Create(ax))\n",
    "        for i in range(5):\n",
    "            x_0 = np.array([0, 1.5])\n",
    "            dx_0 = np.array([2. + rand.randn() * .5, 13 + rand.randn()*2])\n",
    "            F = np.array([rand.randn() * .1, -9.81])\n",
    "\n",
    "            y = 0\n",
    "            delta = dx_0[1]**2 - 2*F[1]*x_0[1]\n",
    "            t_max = (-dx_0[1] - np.sqrt(delta))/F[1]\n",
    "            x_max = .5*F[0]*t_max**2 + dx_0[0] * t_max\n",
    "            x_max_half = .5*F[0]*t_max**2/4 + dx_0[0] * t_max/2.\n",
    "\n",
    "            # Define the cubic graph\n",
    "            CubicGraph = ax.plot(lambda x: movement_equation(x, x_0, dx_0, F), x_range=[0, x_max_half] , color=WHITE, stroke_width=2)\n",
    "            ball = Dot()\n",
    "            self.play(MoveAlongPath(ball, CubicGraph), Create(CubicGraph), run_time=3)\n",
    "            self.remove(ball)\n",
    "\n",
    "            last_x = np.array([x_max_half, movement_equation (x_max_half, x_0, dx_0, F)])\n",
    "            last_dx = dx_0 + t_max*F/2\n",
    "\n",
    "            last_dx_1 = last_dx + rand.randn(2) * .5\n",
    "            y = 0\n",
    "            delta = last_dx_1[1]**2 - 2*F[1]*last_x[1]\n",
    "            t_max = (-last_dx_1[1] - np.sqrt(delta))/F[1]\n",
    "            x_max = .5*F[0]*t_max**2 + last_dx_1[0] * t_max + x_max_half\n",
    "            DashedCubicGraph_1 = DashedVMobject(ax.plot(lambda x: movement_equation(x, last_x, last_dx_1, F), x_range=[x_max_half, x_max] , color=BLUE, stroke_width=2))       \n",
    "            self.play(Create(DashedCubicGraph_1))\n",
    "\n",
    "            last_dx_2 = last_dx + rand.randn(2) * .5\n",
    "            y = 0\n",
    "            delta = last_dx_2[1]**2 - 2*F[1]*last_x[1]\n",
    "            t_max = (-last_dx_2[1] - np.sqrt(delta))/F[1]\n",
    "            x_max = .5*F[0]*t_max**2 + last_dx_2[0] * t_max + x_max_half\n",
    "            DashedCubicGraph_2 = DashedVMobject(ax.plot(lambda x: movement_equation(x, last_x, last_dx_2, F ), x_range=[x_max_half, x_max] , color=YELLOW, stroke_width=2))       \n",
    "            self.play(Create(DashedCubicGraph_2))\n",
    "\n",
    "            last_dx_3 = last_dx + rand.randn(2) * .5\n",
    "            y = 0\n",
    "            delta = last_dx_3[1]**2 - 2*F[1]*last_x[1]\n",
    "            t_max = (-last_dx_3[1] - np.sqrt(delta))/F[1]\n",
    "            x_max = .5*F[0]*t_max**2 + last_dx_3[0] * t_max + x_max_half\n",
    "            DashedCubicGraph_3 = DashedVMobject(ax.plot(lambda x: movement_equation(x, last_x, last_dx_3, F), x_range=[x_max_half, x_max] , color=GREEN, stroke_width=2))       \n",
    "            self.play(Create(DashedCubicGraph_3))\n",
    "            self.wait(1)\n",
    "\n",
    "            delta = dx_0[1]**2 - 2*F[1]*x_0[1]\n",
    "            t_max = (-dx_0[1] - np.sqrt(delta))/F[1]\n",
    "            x_max = .5*F[0]*t_max**2 + dx_0[0] * t_max\n",
    "            DashedCubicGraph_4 = ax.plot(lambda x: movement_equation(x, last_x, last_dx, F), x_range=[x_max_half, x_max] , color=WHITE, stroke_width=2)       \n",
    "            ball = Dot()\n",
    "            self.play(MoveAlongPath(ball, DashedCubicGraph_4), Create(DashedCubicGraph_4), run_time=3)\n",
    "            self.wait(5)\n",
    "            #return\n",
    "            self.remove(CubicGraph)\n",
    "            self.remove(DashedCubicGraph_1)\n",
    "            self.remove(DashedCubicGraph_2)\n",
    "            self.remove(DashedCubicGraph_3)\n",
    "            self.remove(DashedCubicGraph_4)\n",
    "        return\n",
    "        # Initialize the left limit using the equation of cubic graph\n",
    "        x_1 = -0.3\n",
    "        y_1 = x_1\n",
    "        LeftLimitLocation = ax.coords_to_point(x_1,y_1) # coordinates (-0.3, 0.603)\n",
    "        LeftLimit = Dot(LeftLimitLocation, color=YELLOW)\n",
    "        \n",
    "        # Initialize the right limit to be at the left limit\n",
    "        RightLimit = Dot(LeftLimitLocation, color=YELLOW)\n",
    "\n",
    "        # Add updater to right limit\n",
    "        def update_text(obj):\n",
    "            obj.next_to(RightLimit, RIGHT, buff=SMALL_BUFF)\n",
    "\n",
    "        # Define a highlighted portion of the cubic graph\n",
    "        LengthOfArc = ax.plot(\n",
    "            lambda x: x, color=YELLOW, x_range=[-0.3, 2.2])\n",
    "\n",
    "        # Animate\n",
    "        self.play(Create(CubicGraph))\n",
    "        self.play(Create(LengthOfArc), MoveAlongPath(RightLimit, LengthOfArc), run_time=2)\n",
    "        self.wait(3)\n",
    "\n",
    "    \n"
   ]
  },
  {
   "cell_type": "code",
   "execution_count": 40,
   "metadata": {},
   "outputs": [
    {
     "data": {
      "text/plain": [
       "array([3.  , 3.25, 3.5 , 3.75, 4.  , 4.25, 4.5 , 4.75, 5.  , 5.25, 5.5 ,\n",
       "       5.75, 6.  , 6.25, 6.5 , 6.75, 7.  , 7.25, 7.5 , 7.75, 8.  ])"
      ]
     },
     "execution_count": 40,
     "metadata": {},
     "output_type": "execute_result"
    }
   ],
   "source": [
    "np.arange(3, 8.25, .25)"
   ]
  },
  {
   "cell_type": "code",
   "execution_count": 55,
   "metadata": {},
   "outputs": [
    {
     "name": "stderr",
     "output_type": "stream",
     "text": [
      "                                                                                                                                              \r"
     ]
    },
    {
     "data": {
      "text/html": [
       "<video src=\"media/jupyter/CircleToSquare@2022-10-20@18-54-25.mp4\" controls autoplay loop style=\"max-width: 75%;\"  >\n",
       "      Your browser does not support the <code>video</code> element.\n",
       "    </video>"
      ],
      "text/plain": [
       "<IPython.core.display.Video object>"
      ]
     },
     "metadata": {},
     "output_type": "display_data"
    }
   ],
   "source": [
    "%%manim -qm CircleToSquare\n",
    "\n",
    "    \n",
    "class CircleToSquare(MovingCameraScene):\n",
    "    CONFIG = {\n",
    "        \"x_min\": 0,\n",
    "        \"x_max\": 50,\n",
    "        \"y_min\": 0,\n",
    "        \"y_max\": 30,\n",
    "        \"graph_origin\": 1 * DOWN + 2 * LEFT,\n",
    "    }\n",
    "    # Setup the scenes\n",
    "    def setup(self):            \n",
    "        MovingCameraScene.setup(self)\n",
    "        \n",
    "    def construct(self):\n",
    "        rand = np.random\n",
    "        def movement_equation (x, x_0, dx_0, F):\n",
    "            x = x #+ rand.randn() * .01\n",
    "            delta_origin = (x_0[0] - x)\n",
    "            if F[0] == 0:\n",
    "                t = (x-x_0[0])/dx_0[0]\n",
    "            elif delta_origin == 0:\n",
    "                return x_0[1]\n",
    "            else:\n",
    "                delta = dx_0[0]**2 - 2*F[0]*delta_origin\n",
    "                t1 = (-dx_0[0] + np.sqrt(delta))/F[0]\n",
    "                t2 = (-dx_0[0] - np.sqrt(delta))/F[0]\n",
    "                t = t1\n",
    "            y =  x_0[1] + dx_0[1] * t + .5 * t**2 * F[1]\n",
    "            return y #+ rand.randn() * .1\n",
    "        \n",
    "        ax = Axes(x_range=[-1. , 10, 2.5], y_range=[0. , 15, 3])#.scale(.4).next_to(graph, UR, [-1., -1.5, 0.])\n",
    "        self.play(Create(ax))\n",
    "        \n",
    "        x_0 = np.array([0, 1.5])\n",
    "        dx_0 = np.array([2., 13])\n",
    "        F = np.array([rand.randn() * .1, -9.81])\n",
    "        \n",
    "        y = 0\n",
    "        delta = dx_0[1]**2 - 2*F[1]*x_0[1]\n",
    "        t_max = (-dx_0[1] - np.sqrt(delta))/F[1]\n",
    "        x_max = .5*F[0]*t_max**2 + dx_0[0] * t_max\n",
    "        x_max_half = .5*F[0]*t_max**2/4 + dx_0[0] * t_max/2.\n",
    "\n",
    "        # Define the cubic graph\n",
    "        CubicGraph = ax.plot(lambda x: movement_equation(x, x_0, dx_0, F), x_range=[0, x_max_half] , color=WHITE, stroke_width=2)\n",
    "        ball = Dot()\n",
    "        self.play(MoveAlongPath(ball, CubicGraph), Create(CubicGraph), run_time=3)\n",
    "        self.remove(ball)\n",
    "        \n",
    "\n",
    "        last_x = np.array([x_max_half, movement_equation (x_max_half, x_0, dx_0, F)])\n",
    "        last_dx = dx_0 + t_max*F/2\n",
    "        all_y = []\n",
    "        all_plots = []\n",
    "        for i in range(3):       \n",
    "            last_dx_1 = last_dx + rand.randn(2) * .5\n",
    "            y = 0\n",
    "            delta = last_dx_1[1]**2 - 2*F[1]*last_x[1]\n",
    "            t_max = (-last_dx_1[1] - np.sqrt(delta))/F[1]\n",
    "            x_max = .5*F[0]*t_max**2 + last_dx_1[0] * t_max + x_max_half\n",
    "            DashedCubicGraph_1 = DashedVMobject(ax.plot(lambda x: movement_equation(x, last_x, last_dx_1, F), x_range=[x_max_half, x_max] , color=BLUE, stroke_width=2))       \n",
    "            self.play(Create(DashedCubicGraph_1), run_time=.5)\n",
    "            all_y.append(x_max)\n",
    "            all_plots.append(DashedCubicGraph_1)\n",
    "\n",
    "        x_length = ax.coords_to_point(8., 0.)[0] - ax.coords_to_point(3., 0)[0]\n",
    "        bin_count, _ = np.histogram(np.array(all_y), bins=np.arange(3, 8.25, .25))\n",
    "        chart = BarChart(bin_count/10., \n",
    "                         x_length=x_length, \n",
    "                         y_range=[0., .25, .05],\n",
    "                        tips=False).move_to([ax.coords_to_point(2.615, 0.)[0] + x_length/2, \n",
    "                                                          ax.coords_to_point(4.1, 5.01)[1], 0.])\n",
    "        chart.get_axes().set_opacity(0.)\n",
    "        self.play(Create(chart), *[FadeOut(plot) for plot in all_plots])\n",
    "        \n",
    "                    \n",
    "        text = MathTex(\"[x_{t+}, \\dot x_{t+}] \\sim p(x_{t+}, \\dot x_{t+} | x_{t-})\", \n",
    "                       color=BLUE).move_to(ax.coords_to_point(5.5, 14))\n",
    "\n",
    "        self.play(Create(text))\n",
    "        #return\n",
    "        for j in range(5):\n",
    "            graphs = []\n",
    "            dots = []\n",
    "            for i in range(15):       \n",
    "                last_dx_1 = last_dx + rand.randn(2) * .5\n",
    "                y = 0\n",
    "                delta = last_dx_1[1]**2 - 2*F[1]*last_x[1]\n",
    "                t_max = (-last_dx_1[1] - np.sqrt(delta))/F[1]\n",
    "                x_max = .5*F[0]*t_max**2 + last_dx_1[0] * t_max + x_max_half\n",
    "                DashedCubicGraph_1 = DashedVMobject(ax.plot(lambda x: movement_equation(x, last_x, last_dx_1, F), x_range=[x_max_half, x_max] , color=BLUE, stroke_width=2))       \n",
    "                graphs.append(DashedCubicGraph_1)\n",
    "                ball = Dot()\n",
    "                dots.append(ball)\n",
    "                all_y.append(x_max)\n",
    "\n",
    "            all_anim = [Create(graph) for graph in graphs] #+ [MoveAlongPath(ball, graph) for ball, graph in zip(dots, graphs)]\n",
    "            self.play(*all_anim)\n",
    "            self.wait(1)\n",
    "            \n",
    "            bin_count, _ = np.histogram(np.array(all_y), bins=np.arange(3, 8.25, .25))\n",
    "            self.play(chart.animate.change_bar_values(bin_count/bin_count.sum(), update_colors=True))\n",
    "            \n",
    "            all_anim = [FadeOut(graph) for graph in graphs]\n",
    "            self.play(*all_anim)\n",
    "            \n",
    "            return\n",
    "\n",
    "\n",
    "        delta = dx_0[1]**2 - 2*F[1]*x_0[1]\n",
    "        t_max = (-dx_0[1] - np.sqrt(delta))/F[1]\n",
    "        x_max = .5*F[0]*t_max**2 + dx_0[0] * t_max\n",
    "        last_x = np.array([x_max_half, movement_equation (x_max_half, x_0, dx_0, F)])\n",
    "        last_dx = dx_0 + t_max*F/2\n",
    "        DashedCubicGraph_4 = ax.plot(lambda x: movement_equation(x, last_x, last_dx, F), x_range=[x_max_half, x_max] , color=WHITE, stroke_width=2)       \n",
    "        ball = Dot()\n",
    "        self.play(MoveAlongPath(ball, DashedCubicGraph_4), Create(DashedCubicGraph_4), run_time=3)\n",
    "        self.wait(5)\n",
    "            #return\n",
    "            #self.remove(CubicGraph)\n",
    "            #self.remove(DashedCubicGraph_1)\n",
    "            #self.remove(DashedCubicGraph_2)\n",
    "            #self.remove(DashedCubicGraph_3)\n",
    "            #self.remove(DashedCubicGraph_4)\n",
    "        return"
   ]
  },
  {
   "cell_type": "code",
   "execution_count": 668,
   "metadata": {},
   "outputs": [
    {
     "data": {
      "text/plain": [
       "0.24905000000000002"
      ]
     },
     "execution_count": 668,
     "metadata": {},
     "output_type": "execute_result"
    }
   ],
   "source": [
    "movement_equation(10, [0, 0], [1, 2], [0, -9.81])"
   ]
  },
  {
   "cell_type": "code",
   "execution_count": 57,
   "metadata": {},
   "outputs": [
    {
     "name": "stderr",
     "output_type": "stream",
     "text": [
      "/Users/awehenkel/miniconda3/envs/DAG-NF/lib/python3.8/site-packages/manim/mobject/graph.py:544: FutureWarning: elementwise comparison failed; returning scalar instead, but in the future will perform elementwise comparison\n",
      "  k: v for k, v in vertex_config.items() if k not in vertices\n",
      "                                                                                                         \r"
     ]
    },
    {
     "data": {
      "text/html": [
       "<video src=\"media/jupyter/CircleToSquare@2022-10-20@21-01-51.mp4\" controls autoplay loop style=\"max-width: 75%;\"  >\n",
       "      Your browser does not support the <code>video</code> element.\n",
       "    </video>"
      ],
      "text/plain": [
       "<IPython.core.display.Video object>"
      ]
     },
     "metadata": {},
     "output_type": "display_data"
    }
   ],
   "source": [
    "%%manim -qm CircleToSquare\n",
    "\n",
    "class CircleToSquare(MovingCameraScene):\n",
    "    CONFIG = {\n",
    "        \"x_min\": 0,\n",
    "        \"x_max\": 50,\n",
    "        \"y_min\": 0,\n",
    "        \"y_max\": 30,\n",
    "        \"graph_origin\": 1 * DOWN + 2 * LEFT,\n",
    "    }\n",
    "    # Setup the scenes\n",
    "    def setup(self):            \n",
    "        MovingCameraScene.setup(self)\n",
    "        \n",
    "    def construct(self):\n",
    "        rand = np.random\n",
    "        edges = []\n",
    "        partitions = []\n",
    "        c = 0\n",
    "        layers = [1, 2, 3, 3, 2, 1]  # the number of neurons in each layer\n",
    "\n",
    "        for i in layers:\n",
    "            partitions.append(list(range(c + 1, c + i + 1)))\n",
    "            c += i\n",
    "        for i, v in enumerate(layers[1:]):\n",
    "                last = sum(layers[:i+1])\n",
    "                for j in range(v):\n",
    "                    for k in range(last - layers[i], last):\n",
    "                        edges.append((k + 1, j + last + 1))\n",
    "\n",
    "        vertices = np.arange(1, sum(layers) + 1)\n",
    "\n",
    "        graph = Graph(\n",
    "            vertices,\n",
    "            edges,\n",
    "            layout='partite',\n",
    "            partitions=partitions,\n",
    "            layout_scale=3,\n",
    "            vertex_config={'radius': 0.20},\n",
    "        )\n",
    "\n",
    "        t = MathTex(r\"g_{\\theta}(x) := \\frac{\\partial f(x)}{\\partial x}\", color=BLUE)\n",
    "        t.next_to(graph, UP, coor_mask=[0.5, 1., 0])\n",
    "        graph.insert(0, t)\n",
    "\n",
    "        self.play(Create(graph), run_time=5.)\n",
    "\n",
    "        cur_layer = 0\n",
    "        cur_sum = 0\n",
    "        cur_nodes = []\n",
    "        prev_nodes = []\n",
    "        if False:\n",
    "            for ind, v in enumerate(graph.vertices):\n",
    "                if cur_sum == layers[cur_layer]:\n",
    "                    cur_sum = 0\n",
    "                    cur_layer += 1\n",
    "                    anim = [n.animate.set_color(RED) for n in cur_nodes] + [n.animate.set_color(WHITE) for n in prev_nodes]\n",
    "                    self.play(*anim, )\n",
    "                    prev_nodes = cur_nodes\n",
    "                    cur_nodes = []\n",
    "\n",
    "                cur_sum += 1\n",
    "                cur_nodes.append(graph.vertices[v])\n",
    "\n",
    "            anim = [n.animate.set_color(RED) for n in cur_nodes] + [n.animate.set_color(WHITE) for n in prev_nodes]\n",
    "            self.play(*anim)"
   ]
  },
  {
   "cell_type": "code",
   "execution_count": 118,
   "metadata": {},
   "outputs": [
    {
     "name": "stderr",
     "output_type": "stream",
     "text": [
      "Animation 28: _MethodAnimation(ValueTracker):  47%|████▋     | 14/30 [00:00<00:00, 18.86it/s]      <string>:119: RuntimeWarning: divide by zero encountered in double_scalars\n",
      "<string>:119: RuntimeWarning: invalid value encountered in double_scalars\n",
      "                                                                                               \r"
     ]
    },
    {
     "data": {
      "text/html": [
       "<video src=\"media/jupyter/CircleToSquare@2022-10-21@18-10-30.mp4\" controls autoplay loop style=\"max-width: 75%;\"  >\n",
       "      Your browser does not support the <code>video</code> element.\n",
       "    </video>"
      ],
      "text/plain": [
       "<IPython.core.display.Video object>"
      ]
     },
     "metadata": {},
     "output_type": "display_data"
    }
   ],
   "source": [
    "%%manim -ql CircleToSquare\n",
    "\n",
    "\n",
    "def affine_trans(a, b):\n",
    "    return lambda x: a * x + b\n",
    "\n",
    "    \n",
    "class CircleToSquare(MovingCameraScene):\n",
    "    CONFIG = {\n",
    "        \"y_max\" : 50,\n",
    "        \"y_min\" : 0,\n",
    "        \"x_max\" : 7,\n",
    "        \"x_min\" : 0,\n",
    "        \"y_tick_frequency\" : 5, \n",
    "        \"x_tick_frequency\" : 0.5, \n",
    "    }\n",
    "    # Setup the scenes\n",
    "    def setup(self):            \n",
    "        MovingCameraScene.setup(self)\n",
    "        \n",
    "    def construct(self):\n",
    "        ax = Axes( x_range=[-3. , 3., 1.], y_range=[-3., 3., 1.])\n",
    "        self.play(Create(ax), run_time=2.)\n",
    "        \n",
    "        t_red = MathTex(r\"f(z) = a z + b\", color=WHITE).move_to(ax.coords_to_point(-1., 3.))\n",
    "        t_red.next_to(ax, UL, coor_mask=[0.5, 0.5, 0])\n",
    "                \n",
    "        a = MathTex(\"a: \").next_to(t_red, DOWN)\n",
    "        tracker_a = ValueTracker(1.)\n",
    "        decimal_a = DecimalNumber(0, num_decimal_places=2, include_sign=True, unit=None).next_to(a, RIGHT)\n",
    "        decimal_a.add_updater(lambda d: d.set_value(tracker_a.get_value()))\n",
    "        self.add(decimal_a)\n",
    "        self.add(a)\n",
    "        self.play(Create(a))\n",
    "        \n",
    "        b = MathTex(\"b: \").next_to(a, DOWN)\n",
    "        tracker_b = ValueTracker(0.)\n",
    "        decimal_b = DecimalNumber(0, num_decimal_places=2, include_sign=True, unit=None).next_to(b, RIGHT)\n",
    "        decimal_b.add_updater(lambda d: d.set_value(tracker_b.get_value()))\n",
    "        self.add(decimal_b)\n",
    "        self.add(b)\n",
    "        self.play(Create(b))\n",
    "        \n",
    "        \n",
    "        graph_mon = ax.plot(affine_trans(tracker_a.get_value(), tracker_b.get_value()), x_range=[-3 , 3], use_smoothing=True, stroke_color=WHITE)\n",
    "        ax.insert(1, graph_mon)\n",
    "        self.play(*[Create(graph_mon), Create(t_red)], run_time=2.)\n",
    "    \n",
    "        \n",
    "        self.wait(1)\n",
    "\n",
    "        def update_graph(mob):\n",
    "            new_graph = ax.plot(affine_trans(tracker_a.get_value(), tracker_b.get_value()), x_range=[-3 , 3], use_smoothing=True, stroke_color=WHITE)\n",
    "            mob.become(new_graph)\n",
    "\n",
    "        #update_graph(ax)\n",
    "        graph_mon.add_updater(update_graph)\n",
    "        self.play(a.animate.set_color(RED))\n",
    "        self.play(tracker_a.animate.set_value(float(2.)), run_time=2)\n",
    "        self.play(tracker_a.animate.set_value(float(-2)), run_time=2)\n",
    "        self.play(tracker_a.animate.set_value(float(.5)), run_time=1)\n",
    "        self.play(a.animate.set_color(WHITE))\n",
    "        self.play(b.animate.set_color(RED))\n",
    "        self.play(tracker_b.animate.set_value(float(2.)), run_time=2)\n",
    "        self.play(tracker_b.animate.set_value(float(-2)), run_time=2)\n",
    "        self.play(tracker_b.animate.set_value(float(-.75)), run_time=1)\n",
    "        self.play(b.animate.set_color(WHITE))\n",
    "        \n",
    "        ax_gaussian = Axes(x_range=[-3. , 3., 1.], y_range=[0., 1., 1.])\n",
    "        ax_gaussian.set_opacity(0.).move_to(ax.coords_to_point(0., -.75))\n",
    "        \n",
    "        t = MathTex(r\"z \\sim \\mathcal{N}(0, 1)\", color=BLUE)\n",
    "        t.next_to(ax_gaussian, UR, coor_mask=[0.5, -.5, 0])\n",
    "\n",
    "        graph = ax_gaussian.plot(lambda x: 1/np.sqrt(2*math.pi) * np.exp(-x ** 2), x_range=[-3 , 3], use_smoothing=False, color=BLUE)\n",
    "        self.play(*[Create(graph), Create(t)], run_time=2.)\n",
    "        self.wait(1)\n",
    "\n",
    "\n",
    "        origin = ax.get_origin()\n",
    "        y_scale = ax.get_y_unit_size()\n",
    "        r = np.random\n",
    "        x_length = ax.coords_to_point(0., 1.)[1] - ax.coords_to_point(0., 0)[1]\n",
    "        y_length = ax.coords_to_point(.9, 1.)[0] - ax.coords_to_point(0., 0)[0]\n",
    "\n",
    "        ## Sample the first point\n",
    "        all_y = np.array([])\n",
    "        x = r.randn()\n",
    "        y = affine_trans(tracker_a.get_value(), tracker_b.get_value())(x)\n",
    "        all_y = np.append(all_y, y)\n",
    "        dot = Dot(ax_gaussian.coords_to_point(x, 0), color=BLUE)\n",
    "\n",
    "        self.play(Create(dot), run_time=2.)\n",
    "        self.play(dot.animate.move_to(ax.coords_to_point(x, y)).set_color(WHITE), run_time=2.)\n",
    "\n",
    "        self.wait(3)\n",
    "\n",
    "        bin_count, _ = np.histogram(all_y, bins=np.arange(-.5, .55, .05))\n",
    "        aff_group = Group(*[t_red, a, b, decimal_a, decimal_b])\n",
    "        all_objects = Group(*[graph, graph_mon, ax, dot, t, aff_group])\n",
    "        self.play(all_objects.animate.rotate(-PI/2), \n",
    "                  t.animate.rotate(0).move_to([-4.75, 4.5, 0.]), \n",
    "                  aff_group.animate.rotate(0).move_to([6., 5.5, 0.]))\n",
    "        self.play(self.camera.frame.animate.set(width=25))\n",
    "\n",
    "        t_red_bis = MathTex(r\"x = f(z)\", color=GREEN).next_to(b, DOWN)#.move_to([7.5, 3.5, 0.])\n",
    "        t_red_bis_bis = MathTex(r\"x \\sim \\mathcal{N}(b, a^2)\", color=GREEN).next_to(t_red_bis, DOWN)\n",
    "        self.play(dot.animate.move_to(ax.coords_to_point(0., y)).set_color(GREEN), Create(t_red_bis))\n",
    "        self.play(FadeOut(dot), Create(t_red_bis_bis))\n",
    "\n",
    "        self.play(*[graph.animate.move_to([-5., 0. , 0.])])\n",
    "                \n",
    "        graph = ax.plot(lambda x: 3/np.sqrt(2*math.pi*tracker_a.get_value()**2) * np.exp(-((x - tracker_b.get_value())/tracker_a.get_value()) ** 2), x_range=[-2 , 2], \n",
    "                                 use_smoothing=True, color=GREEN).rotate(PI/2).move_to(ax.coords_to_point(0, 0), \n",
    "                                                                                      coor_mask=[1., 1, 0])\n",
    "        self.play(*[Create(graph)], run_time=2.)\n",
    "        \n",
    "        return\n",
    "        def update_graph_bis(mob):\n",
    "            new_graph = ax.plot(lambda x: 3/np.sqrt(2*math.pi*tracker_a.get_value()**2) * np.exp(-((x - tracker_b.get_value())/tracker_a.get_value()) ** 2), x_range=[-2 , 2], \n",
    "                                 use_smoothing=True, color=GREEN).rotate(PI/2).move_to(ax.coords_to_point(0, 0), \n",
    "                                                                                      coor_mask=[1., 1, 0])\n",
    "            mob.become(new_graph)\n",
    "            \n",
    "        graph.add_updater(update_graph_bis)\n",
    "        self.play(a.animate.set_color(GREEN))\n",
    "        self.play(tracker_a.animate.set_value(float(1.)), run_time=2)\n",
    "        self.play(tracker_a.animate.set_value(float(-1)), run_time=2)\n",
    "        self.play(tracker_a.animate.set_value(float(.5)), run_time=1)\n",
    "        self.play(a.animate.set_color(WHITE))\n",
    "        self.play(b.animate.set_color(GREEN))\n",
    "        self.play(tracker_b.animate.set_value(float(1.)), run_time=2)\n",
    "        self.play(tracker_b.animate.set_value(float(-1)), run_time=2)\n",
    "        self.play(tracker_b.animate.set_value(float(-.75)), run_time=1)\n",
    "        self.play(b.animate.set_color(WHITE))\n",
    "        return\n",
    "\n",
    "\n",
    "        "
   ]
  },
  {
   "cell_type": "code",
   "execution_count": null,
   "metadata": {},
   "outputs": [],
   "source": []
  }
 ],
 "metadata": {
  "kernelspec": {
   "display_name": "Python 3",
   "language": "python",
   "name": "python3"
  },
  "language_info": {
   "codemirror_mode": {
    "name": "ipython",
    "version": 3
   },
   "file_extension": ".py",
   "mimetype": "text/x-python",
   "name": "python",
   "nbconvert_exporter": "python",
   "pygments_lexer": "ipython3",
   "version": "3.8.3"
  }
 },
 "nbformat": 4,
 "nbformat_minor": 4
}
